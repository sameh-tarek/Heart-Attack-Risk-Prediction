{
 "cells": [
  {
   "cell_type": "code",
   "execution_count": 6,
   "metadata": {
    "tags": [
     "All Imports"
    ]
   },
   "outputs": [],
   "source": [
    "import pandas as pd\n",
    "import matplotlib.pyplot as plt\n",
    "import seaborn as sns\n",
    "from sklearn.preprocessing import LabelEncoder\n",
    "from sklearn.model_selection import train_test_split\n",
    "from sklearn.tree import DecisionTreeClassifier, export_graphviz\n",
    "from sklearn.metrics import confusion_matrix, accuracy_score, precision_score, recall_score, f1_score\n",
    "from sklearn.neighbors import KNeighborsClassifier\n",
    "from sklearn.svm import SVC\n",
    "from six import StringIO\n",
    "from IPython.display import Image\n",
    "import pydotplus"
   ]
  },
  {
   "cell_type": "code",
   "execution_count": null,
   "metadata": {
    "tags": [
     "Reading Data"
    ]
   },
   "outputs": [],
   "source": [
    "data = pd.read_csv('heart_attack_prediction_dataset.csv')\n",
    "\n",
    "selected_columns = ['Age', 'Sex', 'Cholesterol', 'Blood Pressure', 'Diabetes', 'Smoking', 'Obesity',\n",
    "                    'Exercise Hours Per Week', 'Diet', 'Previous Heart Problems', 'Medication Use',\n",
    "                    'Stress Level', 'BMI', 'Physical Activity Days Per Week', 'Heart Attack Risk']\n",
    "\n",
    "data = data[selected_columns]\n",
    "\n",
    "numeric_columns = data.select_dtypes(include=['number']).columns\n",
    "\n",
    "non_numeric_columns = data.select_dtypes(include=['object']).columns\n",
    "\n",
    "print(\"Numeric Columns:\\n\" + ', '.join(numeric_columns))\n",
    "print('\\n')\n",
    "print(\"Non-Numeric Columns:\\n\" + ', '.join(non_numeric_columns))\n",
    "print('\\n')\n",
    "print(data.head())"
   ]
  },
  {
   "cell_type": "code",
   "execution_count": null,
   "metadata": {},
   "outputs": [],
   "source": [
    "# Line Plot\n",
    "num_plots = len(numeric_columns)\n",
    "num_cols = 2  # Set the number of columns in the grid\n",
    "num_rows = (num_plots // num_cols) + (num_plots % num_cols > 0)  # Calculate the number of rows needed\n",
    "\n",
    "fig, axes = plt.subplots(num_rows, num_cols, figsize=(15, 5*num_rows))\n",
    "\n",
    "for i, col in enumerate(numeric_columns):\n",
    "    row_idx = i // num_cols\n",
    "    col_idx = i % num_cols\n",
    "\n",
    "    sns.lineplot(x=data.index, y=data[col], ax=axes[row_idx, col_idx])\n",
    "    axes[row_idx, col_idx].set_title(f'Line Plot of {col}')\n",
    "\n",
    "# Remove empty subplots\n",
    "for i in range(num_plots, num_rows * num_cols):\n",
    "    fig.delaxes(axes.flatten()[i])\n",
    "\n",
    "plt.tight_layout()\n",
    "plt.show()\n"
   ]
  },
  {
   "cell_type": "code",
   "execution_count": null,
   "metadata": {},
   "outputs": [],
   "source": [
    "# Histogram plot\n",
    "num_cols_hist = 2  # Set the number of columns for the histogram plot\n",
    "num_rows_hist = (len(numeric_columns) // num_cols_hist) + (len(numeric_columns) % num_cols_hist > 0)\n",
    "\n",
    "fig_hist, axes_hist = plt.subplots(num_rows_hist, num_cols_hist, figsize=(15, 5*num_rows_hist))\n",
    "\n",
    "for i, col in enumerate(numeric_columns):\n",
    "    row_idx = i // num_cols_hist\n",
    "    col_idx = i % num_cols_hist\n",
    "\n",
    "    sns.histplot(data[col], bins=20, ax=axes_hist[row_idx, col_idx])\n",
    "    axes_hist[row_idx, col_idx].set_title(f'Histogram of {col}')\n",
    "\n",
    "# Remove empty subplots\n",
    "for i in range(len(numeric_columns), num_rows_hist * num_cols_hist):\n",
    "    fig_hist.delaxes(axes_hist.flatten()[i])\n",
    "\n",
    "plt.tight_layout()\n",
    "plt.show()\n"
   ]
  },
  {
   "cell_type": "code",
   "execution_count": null,
   "metadata": {},
   "outputs": [],
   "source": [
    "# Density Plot\n",
    "num_cols_density = 2  # Set the number of columns for the density plot\n",
    "num_rows_density = (len(numeric_columns) // num_cols_density) + (len(numeric_columns) % num_cols_density > 0)\n",
    "\n",
    "fig_density, axes_density = plt.subplots(num_rows_density, num_cols_density, figsize=(15, 5*num_rows_density))\n",
    "\n",
    "for i, col in enumerate(numeric_columns):\n",
    "    row_idx = i // num_cols_density\n",
    "    col_idx = i % num_cols_density\n",
    "\n",
    "    sns.kdeplot(data[col], fill=True, ax=axes_density[row_idx, col_idx])\n",
    "    axes_density[row_idx, col_idx].set_title(f'Density Plot of {col}')\n",
    "\n",
    "# Remove empty subplots\n",
    "for i in range(len(numeric_columns), num_rows_density * num_cols_density):\n",
    "    fig_density.delaxes(axes_density.flatten()[i])\n",
    "\n",
    "plt.tight_layout()\n",
    "plt.show()\n"
   ]
  },
  {
   "cell_type": "code",
   "execution_count": null,
   "metadata": {},
   "outputs": [],
   "source": [
    "# Vertical Bar Plot\n",
    "num_cols_bar = 2  # Set the number of columns for the bar plot\n",
    "num_rows_bar = (len(numeric_columns) // num_cols_bar) + (len(numeric_columns) % num_cols_bar > 0)\n",
    "\n",
    "fig_bar, axes_bar = plt.subplots(num_rows_bar, num_cols_bar, figsize=(15, 5*num_rows_bar))\n",
    "\n",
    "for i, col in enumerate(numeric_columns):\n",
    "    row_idx = i // num_cols_bar\n",
    "    col_idx = i % num_cols_bar\n",
    "\n",
    "    sns.barplot(x=data.index, y=data[col], ax=axes_bar[row_idx, col_idx])\n",
    "    axes_bar[row_idx, col_idx].set_title(f'Vertical Bar of {col}')\n",
    "\n",
    "# Remove empty subplots\n",
    "for i in range(len(numeric_columns), num_rows_bar * num_cols_bar):\n",
    "    fig_bar.delaxes(axes_bar.flatten()[i])\n",
    "\n",
    "plt.tight_layout()\n",
    "plt.show()\n",
    "# دا بطئ فوقفت الرن بتاعه\n"
   ]
  },
  {
   "cell_type": "code",
   "execution_count": null,
   "metadata": {},
   "outputs": [],
   "source": [
    "# preprocessing\n",
    "print(\"\\n************ preprocessing ************\")\n",
    "print(\"check missing values:\\n\", data.isnull().sum(), '\\n')\n",
    "# data.dropna(inplace=True)\n",
    "le = LabelEncoder()\n",
    "data['Sex'] = le.fit_transform(data['Sex'])\n",
    "data['Diet'] = le.fit_transform(data['Diet'])\n",
    "data['Blood Pressure'] = data['Blood Pressure'].apply(lambda x: float(x.split('/')[0]) if '/' in str(x) else float(x))\n",
    "print(\"After preprocessing:\\n\")\n",
    "print(data['Diet'], \"\\n\")\n",
    "print(data['Sex'], \"\\n\")\n",
    "print(data['Blood Pressure'], \"\\n\")"
   ]
  },
  {
   "cell_type": "code",
   "execution_count": null,
   "metadata": {},
   "outputs": [],
   "source": [
    "# Line Plot\n",
    "num_plots = len(numeric_columns)\n",
    "num_cols = 2  # Set the number of columns in the grid\n",
    "num_rows = (num_plots // num_cols) + (num_plots % num_cols > 0)  # Calculate the number of rows needed\n",
    "\n",
    "fig, axes = plt.subplots(num_rows, num_cols, figsize=(15, 5*num_rows))\n",
    "\n",
    "for i, col in enumerate(numeric_columns):\n",
    "    row_idx = i // num_cols\n",
    "    col_idx = i % num_cols\n",
    "\n",
    "    sns.lineplot(x=data.index, y=data[col], ax=axes[row_idx, col_idx])\n",
    "    axes[row_idx, col_idx].set_title(f'Line Plot of {col}')\n",
    "\n",
    "# Remove empty subplots\n",
    "for i in range(num_plots, num_rows * num_cols):\n",
    "    fig.delaxes(axes.flatten()[i])\n",
    "\n",
    "plt.tight_layout()\n",
    "plt.show()\n"
   ]
  },
  {
   "cell_type": "code",
   "execution_count": null,
   "metadata": {},
   "outputs": [],
   "source": [
    "# Histogram plot\n",
    "num_cols_hist = 2  # Set the number of columns for the histogram plot\n",
    "num_rows_hist = (len(numeric_columns) // num_cols_hist) + (len(numeric_columns) % num_cols_hist > 0)\n",
    "\n",
    "fig_hist, axes_hist = plt.subplots(num_rows_hist, num_cols_hist, figsize=(15, 5*num_rows_hist))\n",
    "\n",
    "for i, col in enumerate(numeric_columns):\n",
    "    row_idx = i // num_cols_hist\n",
    "    col_idx = i % num_cols_hist\n",
    "\n",
    "    sns.histplot(data[col], bins=20, ax=axes_hist[row_idx, col_idx])\n",
    "    axes_hist[row_idx, col_idx].set_title(f'Histogram of {col}')\n",
    "\n",
    "# Remove empty subplots\n",
    "for i in range(len(numeric_columns), num_rows_hist * num_cols_hist):\n",
    "    fig_hist.delaxes(axes_hist.flatten()[i])\n",
    "\n",
    "plt.tight_layout()\n",
    "plt.show()\n"
   ]
  },
  {
   "cell_type": "code",
   "execution_count": null,
   "metadata": {},
   "outputs": [],
   "source": [
    "# Density Plot\n",
    "num_cols_density = 2  # Set the number of columns for the density plot\n",
    "num_rows_density = (len(numeric_columns) // num_cols_density) + (len(numeric_columns) % num_cols_density > 0)\n",
    "\n",
    "fig_density, axes_density = plt.subplots(num_rows_density, num_cols_density, figsize=(15, 5*num_rows_density))\n",
    "\n",
    "for i, col in enumerate(numeric_columns):\n",
    "    row_idx = i // num_cols_density\n",
    "    col_idx = i % num_cols_density\n",
    "\n",
    "    sns.kdeplot(data[col], fill=True, ax=axes_density[row_idx, col_idx])\n",
    "    axes_density[row_idx, col_idx].set_title(f'Density Plot of {col}')\n",
    "\n",
    "# Remove empty subplots\n",
    "for i in range(len(numeric_columns), num_rows_density * num_cols_density):\n",
    "    fig_density.delaxes(axes_density.flatten()[i])\n",
    "\n",
    "plt.tight_layout()\n",
    "plt.show()\n"
   ]
  },
  {
   "cell_type": "code",
   "execution_count": null,
   "metadata": {},
   "outputs": [],
   "source": [
    "# Vertical Bar Plot\n",
    "num_cols_bar = 2  # Set the number of columns for the bar plot\n",
    "num_rows_bar = (len(numeric_columns) // num_cols_bar) + (len(numeric_columns) % num_cols_bar > 0)\n",
    "\n",
    "fig_bar, axes_bar = plt.subplots(num_rows_bar, num_cols_bar, figsize=(15, 5*num_rows_bar))\n",
    "\n",
    "for i, col in enumerate(numeric_columns):\n",
    "    row_idx = i // num_cols_bar\n",
    "    col_idx = i % num_cols_bar\n",
    "\n",
    "    sns.barplot(x=data.index, y=data[col], ax=axes_bar[row_idx, col_idx])\n",
    "    axes_bar[row_idx, col_idx].set_title(f'Vertical Bar of {col}')\n",
    "\n",
    "# Remove empty subplots\n",
    "for i in range(len(numeric_columns), num_rows_bar * num_cols_bar):\n",
    "    fig_bar.delaxes(axes_bar.flatten()[i])\n",
    "\n",
    "plt.tight_layout()\n",
    "plt.show()\n",
    "# دا بطئ فوقفت الرن بتاعه\n"
   ]
  },
  {
   "cell_type": "code",
   "execution_count": null,
   "metadata": {},
   "outputs": [],
   "source": [
    "# features(x) and target(x)\n",
    "x = data.drop('Heart Attack Risk', axis=1)\n",
    "y = data['Heart Attack Risk']\n",
    "\n",
    "# decision tree classification\n",
    "print(\"\\n**************** Decision tree classification ******************\")\n",
    "x_train, x_test, y_train, y_test = train_test_split(x, y, test_size=0.3, random_state=42)\n",
    "dtree = DecisionTreeClassifier(criterion='entropy') # gini or entropy\n",
    "dtree.fit(x_train, y_train)\n",
    "pred = dtree.predict(x_test)\n",
    "accuracy = accuracy_score(y_test, pred)\n",
    "print(\"Accuracy: \", accuracy)"
   ]
  },
  {
   "cell_type": "code",
   "execution_count": null,
   "metadata": {},
   "outputs": [],
   "source": [
    "# decision tree Visualization\n",
    "dot_data = StringIO()\n",
    "export_graphviz(dtree, out_file=dot_data, filled=True, rounded=True, feature_names=x.columns, class_names=['0', '1', '2'])\n",
    "graph = pydotplus.graph_from_dot_data(dot_data.getvalue())\n",
    "# graph.write_png('images/decisionTree/tree.png')\n",
    "Image(graph.create_png())"
   ]
  },
  {
   "cell_type": "code",
   "execution_count": null,
   "metadata": {},
   "outputs": [],
   "source": [
    "# KNN classification\n",
    "print(\"\\n************ KNN classification *************\")\n",
    "model = KNeighborsClassifier(n_neighbors=3)\n",
    "model.fit(x_train, y_train)\n",
    "pred = model.predict(x_test)\n",
    "matrix = confusion_matrix(y_test, pred)\n",
    "print(\"confusion_matrix:\\n\", matrix)"
   ]
  },
  {
   "cell_type": "code",
   "execution_count": null,
   "metadata": {},
   "outputs": [],
   "source": [
    "# accuracy score\n",
    "acc = accuracy_score(y_test, pred)\n",
    "print(\"accuracy: \", acc)\n",
    "# precision\n",
    "pre = precision_score(y_test, pred)\n",
    "# recall\n",
    "rec = recall_score(y_test, pred)\n",
    "print(\"recall: \", rec)\n",
    "# fi-measure\n",
    "f1 = f1_score(y_test, pred)\n",
    "print(\"f1-measure: \", f1)"
   ]
  },
  {
   "cell_type": "code",
   "execution_count": null,
   "metadata": {},
   "outputs": [],
   "source": [
    "# SVM classification\n",
    "print(\"\\n*********** SVM Classification *************\")\n",
    "SVM_Model = SVC(gamma='auto')\n",
    "model.fit(x_train, y_train)\n",
    "pred = model.predict(x_test)\n",
    "matrix = confusion_matrix(y_test, pred)\n",
    "print(\"confusion_matrix:\\n\", matrix)\n",
    "# SVM accuracy\n",
    "acc = accuracy_score(y_test, pred)\n",
    "print(\"SVM Accuracy: \", acc)"
   ]
  }
 ],
 "metadata": {
  "kernelspec": {
   "display_name": "Python 3",
   "language": "python",
   "name": "python3"
  },
  "language_info": {
   "codemirror_mode": {
    "name": "ipython",
    "version": 3
   },
   "file_extension": ".py",
   "mimetype": "text/x-python",
   "name": "python",
   "nbconvert_exporter": "python",
   "pygments_lexer": "ipython3",
   "version": "3.10.12"
  }
 },
 "nbformat": 4,
 "nbformat_minor": 2
}
